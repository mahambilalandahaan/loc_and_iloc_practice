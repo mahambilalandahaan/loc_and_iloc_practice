{
  "cells": [
    {
      "cell_type": "code",
      "execution_count": null,
      "metadata": {
        "colab": {
          "background_save": true
        },
        "id": "Pf6yPRGWhhYD"
      },
      "outputs": [],
      "source": [
        "#: Data Selection (loc vs iloc)Tasks:\n",
        "#Select only the Name column.\n",
        "#Get data of the 3rd student using iloc.\n",
        "#Get data of the student with Name == \"Madiha\" using loc.\n",
        "#Select only Name and City for the first 3 students.\n",
        "import pandas as pd\n",
        "df=pd.read_csv(\"students.csv\")\n",
        "print(df)\n",
        "df=df.rename(columns={\"Full Name\":\"Name\",\"Email address\":\"Email\"})\n",
        "print(df[\"Name\"])\n",
        "print(df.iloc[2])\n",
        "print(df.loc[df[\"Name\"]==\"madiha\"])\n",
        "print(\"Name and city for the first 3 students\\n\")\n",
        "prinf(df.loc[0:2])\n"
      ]
    },
    {
      "cell_type": "code",
      "source": [],
      "metadata": {
        "id": "neO3fidgCX0_"
      },
      "execution_count": null,
      "outputs": []
    }
  ],
  "metadata": {
    "colab": {
      "provenance": []
    },
    "kernelspec": {
      "display_name": "Python 3",
      "name": "python3"
    },
    "language_info": {
      "name": "python"
    }
  },
  "nbformat": 4,
  "nbformat_minor": 0
}