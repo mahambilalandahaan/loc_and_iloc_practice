{
  "nbformat": 4,
  "nbformat_minor": 0,
  "metadata": {
    "colab": {
      "provenance": []
    },
    "kernelspec": {
      "name": "python3",
      "display_name": "Python 3"
    },
    "language_info": {
      "name": "python"
    }
  },
  "cells": [
    {
      "cell_type": "code",
      "execution_count": 27,
      "metadata": {
        "id": "NFBzslQoOQnm",
        "colab": {
          "base_uri": "https://localhost:8080/"
        },
        "outputId": "8d00f29d-363a-49ab-c955-7fe080287c30"
      },
      "outputs": [
        {
          "output_type": "stream",
          "name": "stdout",
          "text": [
            "Drive already mounted at /content/Drive; to attempt to forcibly remount, call drive.mount(\"/content/Drive\", force_remount=True).\n",
            "      Name  Age       City                   Email  Unnamed: 4 Unnamed: 5\n",
            "0     Atif   46    karachi    atifmadiha@gmail.com         NaN        NaN\n",
            "1   madiha   42     lahore  ahidam_314@hotmail.com         NaN        NaN\n",
            "2    maham   15  islamabad     mahamatif@gmail.com         NaN        NaN\n",
            "3    bilal   13    karachi  bilalhussain@yahoo.com         NaN        NaN\n",
            "4    ahaan    4     quetta  ahaanhusaain@gmail.com         NaN        NaN\n",
            "5    anwer   70     lahore     anwerkhan@yahoo.com         NaN        NaN\n",
            "6     zaib   65     lahore    zaibanwer@hotmail.om         NaN       .com\n",
            "\n",
            " No. of students in each city\n",
            "~~~~~~~~~~~~~~~~~~~~~~~~~~~~~~~~\n",
            "\n",
            "City\n",
            "lahore       3\n",
            "karachi      2\n",
            "islamabad    1\n",
            "quetta       1\n",
            "Name: count, dtype: int64\n",
            "\n",
            "number of students are in each email domain\n",
            "~~~~~~~~~~~~~~~~~~~~~~~~~~~~~~~~~~~~~~~~~~\n",
            "\n",
            "domain\n",
            "gmail.com      3\n",
            "yahoo.com      2\n",
            "hotmail.com    1\n",
            "hotmail.om     1\n",
            "Name: count, dtype: int64\n",
            "\n",
            " average age of students in each city\n",
            "~~~~~~~~~~~~~~~~~~~~~~~~~~~~~~~~~~~~~~\n",
            "\n",
            "City\n",
            "islamabad    15.0\n",
            "karachi      29.5\n",
            "lahore       59.0\n",
            "quetta        4.0\n",
            "Name: Age, dtype: float64\n",
            "\n",
            " Oldest student in each city\n",
            "~~~~~~~~~~~~~~~~~~~~~~~~~~~~~~~\n",
            "\n",
            "      Name  Age       City\n",
            "2    maham   15  islamabad\n",
            "0     Atif   46    karachi\n",
            "5    anwer   70     lahore\n",
            "4    ahaan    4     quetta\n"
          ]
        }
      ],
      "source": [
        "#: Grouping & Aggregation (Tasks Only)\n",
        "#Count how many students are in each City.\n",
        "#Count how many students are in each Email domain (e.g., gmail, yahoo, hotmail).\n",
        "#Find the average age of students for each City.\n",
        "#Find the oldest student in each City.\n",
        "from google.colab import drive\n",
        "drive.mount('/content/Drive')\n",
        "import pandas as pd\n",
        "df=pd.read_csv('/content/Drive/My Drive/Colab Notebooks/students.csv')\n",
        "#ORGANIZE DATA\n",
        "df.rename(columns={\"Full Name\":\"Name\",\"Email address\":\"Email\"},inplace=True)\n",
        "print(df)\n",
        "#number of students in each city\n",
        "print(\"\\n No. of students in each city\")\n",
        "print(\"~~~~~~~~~~~~~~~~~~~~~~~~~~~~~~~~\\n\")\n",
        "print(df[\"City\"].value_counts())\n",
        "# number of students are in each email domain\n",
        "print(\"\\nnumber of students are in each email domain\")\n",
        "print(\"~~~~~~~~~~~~~~~~~~~~~~~~~~~~~~~~~~~~~~~~~~\\n\")\n",
        "df[\"domain\"]=df[\"Email\"].str.split(\"@\").str[1]\n",
        "print(df[\"domain\"].value_counts())\n",
        "#average age of student for each city\n",
        "print(\"\\n average age of students in each city\")\n",
        "print(\"~~~~~~~~~~~~~~~~~~~~~~~~~~~~~~~~~~~~~~\\n\")\n",
        "print(df.groupby(\"City\")[\"Age\"].mean())\n",
        "#Oldest student in each city\n",
        "print(\"\\n Oldest student in each city\")\n",
        "print(\"~~~~~~~~~~~~~~~~~~~~~~~~~~~~~~~\\n\")\n",
        "print(df.loc[df.groupby(\"City\")[\"Age\"].idxmax(),[\"Name\",\"Age\",\"City\"]])\n"
      ]
    }
  ]
}