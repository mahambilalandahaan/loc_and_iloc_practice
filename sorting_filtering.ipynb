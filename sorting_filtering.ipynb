{
  "nbformat": 4,
  "nbformat_minor": 0,
  "metadata": {
    "colab": {
      "provenance": []
    },
    "kernelspec": {
      "name": "python3",
      "display_name": "Python 3"
    },
    "language_info": {
      "name": "python"
    }
  },
  "cells": [
    {
      "cell_type": "code",
      "execution_count": null,
      "metadata": {
        "id": "QBPy3ZPDFYX7"
      },
      "outputs": [],
      "source": [
        "#Show students sorted by Age (smallest to largest, then largest to smallest).\n",
        "#Show students sorted by City, and if two are from the same city, sort them by Name.\n",
        "#Find all students whose Email domain is gmail.com.\n",
        "#Show the youngest student in the dataset.\n",
        "from google.colab import files\n",
        "import pandas as pd\n",
        "df=pd.read_csv(\"students.csv\")\n",
        "#sorted studends age wise(smallest to largest,then largest to smallest)\n",
        "print(\"\\n students from youngest to oldest\")\n",
        "print(\"~~~~~~~~~~~~~~~~~~~~~~~~~~~~~~~~~~~\\n\")\n",
        "print(df.sort_values(\"Age\"))\n",
        "print(\"\\n students from oldest to youngest\")\n",
        "print(\"~~~~~~~~~~~~~~~~~~~~~~~~~~~~~~~~~~~\\n\")\n",
        "print(df.sort_values(\"Age\",ascending=False))\n",
        "#students sorted by city then name\n",
        "print(\"\\n students sorted by city then name\")\n",
        "print(\"~~~~~~~~~~~~~~~~~~~~~~~~~~~~~~~~~~~\\n\")\n",
        "print(df.sort_values([\"City\",\"Full Name\"]))\n",
        "#students having id in gmail\n",
        "print(\"\\n students having id in gmail\")\n",
        "print(\"~~~~~~~~~~~~~~~~~~~~~~~~~~~~~~~~~~~\\n\")\n",
        "print(df[df[\"Email address\"].str.contains(\"gmail.com\")])\n",
        "#youngest student in the class\n",
        "print(\"\\n youngest student in the class\")\n",
        "print(\"~~~~~~~~~~~~~~~~~~~~~~~~~~~~~~~~~~~\\n\")\n",
        "print(df.loc[df[\"Age\"].idxmin()])\n",
        "#eldest student in the class\n",
        "print(\"\\n eldest student in the class\")\n",
        "print(\"~~~~~~~~~~~~~~~~~~~~~~~~~~~~~~~~~~~\\n\")\n",
        "print(df.loc[df[\"Age\"].idxmax()])"
      ]
    }
  ]
}